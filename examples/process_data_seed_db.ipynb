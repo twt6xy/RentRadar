{
 "cells": [
  {
   "cell_type": "code",
   "execution_count": 1,
   "metadata": {},
   "outputs": [],
   "source": [
    "import ast\n",
    "import uuid\n",
    "import pandas as pd\n",
    "from rentradar.db.duckdb import DuckDBManager\n",
    "from rentradar.process.process_rentcast_data import RentCastData\n",
    "from rentradar.utils.utils import string_to_uuid"
   ]
  },
  {
   "cell_type": "markdown",
   "metadata": {},
   "source": [
    "In this notebook I'll normalize and clean all of the raw data and migrate it to the in-memory DuckDB database."
   ]
  },
  {
   "cell_type": "markdown",
   "metadata": {},
   "source": [
    "### Setup\n",
    "\n",
    "- The following cell creates a database at the specified location"
   ]
  },
  {
   "cell_type": "code",
   "execution_count": 2,
   "metadata": {},
   "outputs": [],
   "source": [
    "db_manager = DuckDBManager('../rentradar/db/rentradar.db')"
   ]
  },
  {
   "cell_type": "markdown",
   "metadata": {},
   "source": [
    "- Read in the cached data"
   ]
  },
  {
   "cell_type": "code",
   "execution_count": 3,
   "metadata": {},
   "outputs": [],
   "source": [
    "data = RentCastData(\n",
    "    properties = pd.read_csv('../data/raw/cville_properties.csv'),\n",
    "    long_term_rentals = pd.read_csv('../data/raw/cville_long_term_rentals.csv'),\n",
    "    sale_listings = pd.read_csv('../data/raw/cville_sale_listings.csv'),\n",
    "    markets_current = pd.read_csv('../data/raw/cville_current_market_stats.csv'),\n",
    "    markets_history = pd.read_csv('../data/raw/cville_historical_market_stats.csv')\n",
    ")"
   ]
  },
  {
   "cell_type": "code",
   "execution_count": 4,
   "metadata": {},
   "outputs": [],
   "source": [
    "data.properties['property_id'] = data.properties['id'].apply(string_to_uuid)"
   ]
  },
  {
   "cell_type": "code",
   "execution_count": 5,
   "metadata": {},
   "outputs": [
    {
     "data": {
      "text/plain": [
       "array([22904, 22903, 22902, 22901, 22911, 22906, 22942, 22932, 24590,\n",
       "       22936, 22940, 22947, 22968, 22923])"
      ]
     },
     "execution_count": 5,
     "metadata": {},
     "output_type": "execute_result"
    }
   ],
   "source": [
    "data.zipcodes"
   ]
  },
  {
   "cell_type": "markdown",
   "metadata": {},
   "source": [
    "### Counties table"
   ]
  },
  {
   "cell_type": "code",
   "execution_count": 6,
   "metadata": {},
   "outputs": [
    {
     "data": {
      "text/plain": [
       "array(['Albemarle', 'Charlottesville City', 'Charlottesville City County',\n",
       "       'Albemarle County', 'Louisa County', 'Charlottesville',\n",
       "       'Fluvanna County', nan, 'Fluvanna', 'Greene County'], dtype=object)"
      ]
     },
     "execution_count": 6,
     "metadata": {},
     "output_type": "execute_result"
    }
   ],
   "source": [
    "data.counties"
   ]
  },
  {
   "cell_type": "code",
   "execution_count": 7,
   "metadata": {},
   "outputs": [],
   "source": [
    "county_normalization_map = {\n",
    "    'Albemarle': 'Albemarle County',\n",
    "    'Albemarle County': 'Albemarle County',\n",
    "    'Charlottesville City': 'Charlottesville City',\n",
    "    'Charlottesville City County': 'Charlottesville City',\n",
    "    'Charlottesville': 'Charlottesville City',\n",
    "    'Louisa County': 'Louisa County',\n",
    "    'Fluvanna County': 'Fluvanna County',\n",
    "    'Fluvanna': 'Fluvanna County',\n",
    "    'Greene County': 'Greene County',\n",
    "}\n",
    "\n",
    "data.properties['county'] = data.properties['county'].map(county_normalization_map)"
   ]
  },
  {
   "cell_type": "code",
   "execution_count": 8,
   "metadata": {},
   "outputs": [
    {
     "data": {
      "text/plain": [
       "array(['Albemarle County', 'Charlottesville City', 'Louisa County',\n",
       "       'Fluvanna County', nan, 'Greene County'], dtype=object)"
      ]
     },
     "execution_count": 8,
     "metadata": {},
     "output_type": "execute_result"
    }
   ],
   "source": [
    "data.counties"
   ]
  },
  {
   "cell_type": "code",
   "execution_count": 9,
   "metadata": {},
   "outputs": [
    {
     "data": {
      "text/html": [
       "<div>\n",
       "<style scoped>\n",
       "    .dataframe tbody tr th:only-of-type {\n",
       "        vertical-align: middle;\n",
       "    }\n",
       "\n",
       "    .dataframe tbody tr th {\n",
       "        vertical-align: top;\n",
       "    }\n",
       "\n",
       "    .dataframe thead th {\n",
       "        text-align: right;\n",
       "    }\n",
       "</style>\n",
       "<table border=\"1\" class=\"dataframe\">\n",
       "  <thead>\n",
       "    <tr style=\"text-align: right;\">\n",
       "      <th></th>\n",
       "      <th>id</th>\n",
       "      <th>formattedAddress</th>\n",
       "      <th>addressLine1</th>\n",
       "      <th>addressLine2</th>\n",
       "      <th>city</th>\n",
       "      <th>state</th>\n",
       "      <th>zipCode</th>\n",
       "      <th>county</th>\n",
       "      <th>latitude</th>\n",
       "      <th>longitude</th>\n",
       "      <th>...</th>\n",
       "      <th>yearBuilt</th>\n",
       "      <th>assessorID</th>\n",
       "      <th>legalDescription</th>\n",
       "      <th>subdivision</th>\n",
       "      <th>zoning</th>\n",
       "      <th>taxAssessments</th>\n",
       "      <th>propertyTaxes</th>\n",
       "      <th>owner</th>\n",
       "      <th>ownerOccupied</th>\n",
       "      <th>property_id</th>\n",
       "    </tr>\n",
       "  </thead>\n",
       "  <tbody>\n",
       "    <tr>\n",
       "      <th>14815</th>\n",
       "      <td>211-Cream-St,-Apt-401,-Charlottesville,-VA-22903</td>\n",
       "      <td>211 Cream St, Apt 401, Charlottesville, VA 22903</td>\n",
       "      <td>211 Cream St</td>\n",
       "      <td>Apt 401</td>\n",
       "      <td>Charlottesville</td>\n",
       "      <td>VA</td>\n",
       "      <td>22903</td>\n",
       "      <td>NaN</td>\n",
       "      <td>38.032588</td>\n",
       "      <td>-78.489985</td>\n",
       "      <td>...</td>\n",
       "      <td>2007.0</td>\n",
       "      <td>NaN</td>\n",
       "      <td>NaN</td>\n",
       "      <td>NaN</td>\n",
       "      <td>NaN</td>\n",
       "      <td>{'2018': {'value': 429000, 'land': 65200, 'imp...</td>\n",
       "      <td>{'2018': {'total': 4102}, '2019': {'total': 38...</td>\n",
       "      <td>NaN</td>\n",
       "      <td>NaN</td>\n",
       "      <td>0a506b15-fce6-5daa-9f2e-5ffdefd4f247</td>\n",
       "    </tr>\n",
       "    <tr>\n",
       "      <th>17299</th>\n",
       "      <td>1211-Rugby-Rd,-Charlottesville,-VA-22903</td>\n",
       "      <td>1211 Rugby Rd, Charlottesville, VA 22903</td>\n",
       "      <td>1211 Rugby Rd</td>\n",
       "      <td>NaN</td>\n",
       "      <td>Charlottesville</td>\n",
       "      <td>VA</td>\n",
       "      <td>22903</td>\n",
       "      <td>NaN</td>\n",
       "      <td>38.048805</td>\n",
       "      <td>-78.492835</td>\n",
       "      <td>...</td>\n",
       "      <td>1955.0</td>\n",
       "      <td>NaN</td>\n",
       "      <td>NaN</td>\n",
       "      <td>NaN</td>\n",
       "      <td>NaN</td>\n",
       "      <td>{'2018': {'value': 523200, 'land': 230000, 'im...</td>\n",
       "      <td>{'2018': {'total': 5215}, '2019': {'total': 54...</td>\n",
       "      <td>NaN</td>\n",
       "      <td>NaN</td>\n",
       "      <td>c4c20619-6a2c-5496-8903-d1dc046a763f</td>\n",
       "    </tr>\n",
       "  </tbody>\n",
       "</table>\n",
       "<p>2 rows × 28 columns</p>\n",
       "</div>"
      ],
      "text/plain": [
       "                                                     id  \\\n",
       "14815  211-Cream-St,-Apt-401,-Charlottesville,-VA-22903   \n",
       "17299          1211-Rugby-Rd,-Charlottesville,-VA-22903   \n",
       "\n",
       "                                       formattedAddress   addressLine1  \\\n",
       "14815  211 Cream St, Apt 401, Charlottesville, VA 22903   211 Cream St   \n",
       "17299          1211 Rugby Rd, Charlottesville, VA 22903  1211 Rugby Rd   \n",
       "\n",
       "      addressLine2             city state  zipCode county   latitude  \\\n",
       "14815      Apt 401  Charlottesville    VA    22903    NaN  38.032588   \n",
       "17299          NaN  Charlottesville    VA    22903    NaN  38.048805   \n",
       "\n",
       "       longitude  ... yearBuilt assessorID  legalDescription  subdivision  \\\n",
       "14815 -78.489985  ...    2007.0        NaN               NaN          NaN   \n",
       "17299 -78.492835  ...    1955.0        NaN               NaN          NaN   \n",
       "\n",
       "       zoning                                     taxAssessments  \\\n",
       "14815     NaN  {'2018': {'value': 429000, 'land': 65200, 'imp...   \n",
       "17299     NaN  {'2018': {'value': 523200, 'land': 230000, 'im...   \n",
       "\n",
       "                                           propertyTaxes  owner  \\\n",
       "14815  {'2018': {'total': 4102}, '2019': {'total': 38...    NaN   \n",
       "17299  {'2018': {'total': 5215}, '2019': {'total': 54...    NaN   \n",
       "\n",
       "       ownerOccupied                           property_id  \n",
       "14815            NaN  0a506b15-fce6-5daa-9f2e-5ffdefd4f247  \n",
       "17299            NaN  c4c20619-6a2c-5496-8903-d1dc046a763f  \n",
       "\n",
       "[2 rows x 28 columns]"
      ]
     },
     "execution_count": 9,
     "metadata": {},
     "output_type": "execute_result"
    }
   ],
   "source": [
    "data.properties[pd.isna(data.properties['county'])]"
   ]
  },
  {
   "cell_type": "code",
   "execution_count": 10,
   "metadata": {},
   "outputs": [
    {
     "data": {
      "text/html": [
       "<div>\n",
       "<style scoped>\n",
       "    .dataframe tbody tr th:only-of-type {\n",
       "        vertical-align: middle;\n",
       "    }\n",
       "\n",
       "    .dataframe tbody tr th {\n",
       "        vertical-align: top;\n",
       "    }\n",
       "\n",
       "    .dataframe thead th {\n",
       "        text-align: right;\n",
       "    }\n",
       "</style>\n",
       "<table border=\"1\" class=\"dataframe\">\n",
       "  <thead>\n",
       "    <tr style=\"text-align: right;\">\n",
       "      <th></th>\n",
       "      <th>id</th>\n",
       "      <th>formattedAddress</th>\n",
       "      <th>addressLine1</th>\n",
       "      <th>addressLine2</th>\n",
       "      <th>city</th>\n",
       "      <th>state</th>\n",
       "      <th>zipCode</th>\n",
       "      <th>county</th>\n",
       "      <th>latitude</th>\n",
       "      <th>longitude</th>\n",
       "      <th>...</th>\n",
       "      <th>yearBuilt</th>\n",
       "      <th>assessorID</th>\n",
       "      <th>legalDescription</th>\n",
       "      <th>subdivision</th>\n",
       "      <th>zoning</th>\n",
       "      <th>taxAssessments</th>\n",
       "      <th>propertyTaxes</th>\n",
       "      <th>owner</th>\n",
       "      <th>ownerOccupied</th>\n",
       "      <th>property_id</th>\n",
       "    </tr>\n",
       "  </thead>\n",
       "  <tbody>\n",
       "    <tr>\n",
       "      <th>8</th>\n",
       "      <td>4-University-Cir,-Apt-4,-Charlottesville,-VA-2...</td>\n",
       "      <td>4 University Cir, Apt 4, Charlottesville, VA 2...</td>\n",
       "      <td>4 University Cir</td>\n",
       "      <td>Apt 4</td>\n",
       "      <td>Charlottesville</td>\n",
       "      <td>VA</td>\n",
       "      <td>22903</td>\n",
       "      <td>Charlottesville City</td>\n",
       "      <td>38.041914</td>\n",
       "      <td>-78.500827</td>\n",
       "      <td>...</td>\n",
       "      <td>NaN</td>\n",
       "      <td>NaN</td>\n",
       "      <td>NaN</td>\n",
       "      <td>NaN</td>\n",
       "      <td>NaN</td>\n",
       "      <td>NaN</td>\n",
       "      <td>NaN</td>\n",
       "      <td>NaN</td>\n",
       "      <td>NaN</td>\n",
       "      <td>20533238-e85d-51d4-97e6-712fe2699a84</td>\n",
       "    </tr>\n",
       "    <tr>\n",
       "      <th>9</th>\n",
       "      <td>6-University-Cir,-Apt-4,-Charlottesville,-VA-2...</td>\n",
       "      <td>6 University Cir, Apt 4, Charlottesville, VA 2...</td>\n",
       "      <td>6 University Cir</td>\n",
       "      <td>Apt 4</td>\n",
       "      <td>Charlottesville</td>\n",
       "      <td>VA</td>\n",
       "      <td>22903</td>\n",
       "      <td>Charlottesville City</td>\n",
       "      <td>38.042500</td>\n",
       "      <td>-78.500857</td>\n",
       "      <td>...</td>\n",
       "      <td>NaN</td>\n",
       "      <td>NaN</td>\n",
       "      <td>NaN</td>\n",
       "      <td>NaN</td>\n",
       "      <td>NaN</td>\n",
       "      <td>NaN</td>\n",
       "      <td>NaN</td>\n",
       "      <td>NaN</td>\n",
       "      <td>NaN</td>\n",
       "      <td>d1cce5db-bbc8-599b-b2dc-3accccd73449</td>\n",
       "    </tr>\n",
       "  </tbody>\n",
       "</table>\n",
       "<p>2 rows × 28 columns</p>\n",
       "</div>"
      ],
      "text/plain": [
       "                                                  id  \\\n",
       "8  4-University-Cir,-Apt-4,-Charlottesville,-VA-2...   \n",
       "9  6-University-Cir,-Apt-4,-Charlottesville,-VA-2...   \n",
       "\n",
       "                                    formattedAddress      addressLine1  \\\n",
       "8  4 University Cir, Apt 4, Charlottesville, VA 2...  4 University Cir   \n",
       "9  6 University Cir, Apt 4, Charlottesville, VA 2...  6 University Cir   \n",
       "\n",
       "  addressLine2             city state  zipCode                county  \\\n",
       "8        Apt 4  Charlottesville    VA    22903  Charlottesville City   \n",
       "9        Apt 4  Charlottesville    VA    22903  Charlottesville City   \n",
       "\n",
       "    latitude  longitude  ... yearBuilt assessorID  legalDescription  \\\n",
       "8  38.041914 -78.500827  ...       NaN        NaN               NaN   \n",
       "9  38.042500 -78.500857  ...       NaN        NaN               NaN   \n",
       "\n",
       "   subdivision  zoning  taxAssessments propertyTaxes  owner  ownerOccupied  \\\n",
       "8          NaN     NaN             NaN           NaN    NaN            NaN   \n",
       "9          NaN     NaN             NaN           NaN    NaN            NaN   \n",
       "\n",
       "                            property_id  \n",
       "8  20533238-e85d-51d4-97e6-712fe2699a84  \n",
       "9  d1cce5db-bbc8-599b-b2dc-3accccd73449  \n",
       "\n",
       "[2 rows x 28 columns]"
      ]
     },
     "execution_count": 10,
     "metadata": {},
     "output_type": "execute_result"
    }
   ],
   "source": [
    "data.properties[data.properties['zipCode'] == 22903].head(2)"
   ]
  },
  {
   "cell_type": "code",
   "execution_count": 11,
   "metadata": {},
   "outputs": [
    {
     "data": {
      "text/html": [
       "<div>\n",
       "<style scoped>\n",
       "    .dataframe tbody tr th:only-of-type {\n",
       "        vertical-align: middle;\n",
       "    }\n",
       "\n",
       "    .dataframe tbody tr th {\n",
       "        vertical-align: top;\n",
       "    }\n",
       "\n",
       "    .dataframe thead th {\n",
       "        text-align: right;\n",
       "    }\n",
       "</style>\n",
       "<table border=\"1\" class=\"dataframe\">\n",
       "  <thead>\n",
       "    <tr style=\"text-align: right;\">\n",
       "      <th></th>\n",
       "      <th>id</th>\n",
       "      <th>formattedAddress</th>\n",
       "      <th>addressLine1</th>\n",
       "      <th>addressLine2</th>\n",
       "      <th>city</th>\n",
       "      <th>state</th>\n",
       "      <th>zipCode</th>\n",
       "      <th>county</th>\n",
       "      <th>latitude</th>\n",
       "      <th>longitude</th>\n",
       "      <th>...</th>\n",
       "      <th>yearBuilt</th>\n",
       "      <th>assessorID</th>\n",
       "      <th>legalDescription</th>\n",
       "      <th>subdivision</th>\n",
       "      <th>zoning</th>\n",
       "      <th>taxAssessments</th>\n",
       "      <th>propertyTaxes</th>\n",
       "      <th>owner</th>\n",
       "      <th>ownerOccupied</th>\n",
       "      <th>property_id</th>\n",
       "    </tr>\n",
       "  </thead>\n",
       "  <tbody>\n",
       "  </tbody>\n",
       "</table>\n",
       "<p>0 rows × 28 columns</p>\n",
       "</div>"
      ],
      "text/plain": [
       "Empty DataFrame\n",
       "Columns: [id, formattedAddress, addressLine1, addressLine2, city, state, zipCode, county, latitude, longitude, features, lastSaleDate, lastSalePrice, bedrooms, bathrooms, squareFootage, propertyType, lotSize, yearBuilt, assessorID, legalDescription, subdivision, zoning, taxAssessments, propertyTaxes, owner, ownerOccupied, property_id]\n",
       "Index: []\n",
       "\n",
       "[0 rows x 28 columns]"
      ]
     },
     "execution_count": 11,
     "metadata": {},
     "output_type": "execute_result"
    }
   ],
   "source": [
    "data.properties.loc[[14815, 17299], 'county'] = 'Charlottesville City'\n",
    "data.properties[pd.isna(data.properties['county'])]"
   ]
  },
  {
   "cell_type": "code",
   "execution_count": 12,
   "metadata": {},
   "outputs": [
    {
     "data": {
      "text/plain": [
       "county\n",
       "Albemarle County        12\n",
       "Charlottesville City     9\n",
       "Fluvanna County          3\n",
       "Greene County            1\n",
       "Louisa County            1\n",
       "Name: zipCode, dtype: int64"
      ]
     },
     "execution_count": 12,
     "metadata": {},
     "output_type": "execute_result"
    }
   ],
   "source": [
    "unique_zipcodes_per_county = data.properties.groupby('county')['zipCode'].nunique()\n",
    "unique_zipcodes_per_county"
   ]
  },
  {
   "cell_type": "code",
   "execution_count": 13,
   "metadata": {},
   "outputs": [],
   "source": [
    "county_ids = []\n",
    "for c in data.counties:\n",
    "    county_ids.append(string_to_uuid(c))\n",
    "\n",
    "counties_df = pd.DataFrame({\"id\":county_ids, \"county\":data.counties})"
   ]
  },
  {
   "cell_type": "code",
   "execution_count": 14,
   "metadata": {},
   "outputs": [
    {
     "data": {
      "text/html": [
       "<div>\n",
       "<style scoped>\n",
       "    .dataframe tbody tr th:only-of-type {\n",
       "        vertical-align: middle;\n",
       "    }\n",
       "\n",
       "    .dataframe tbody tr th {\n",
       "        vertical-align: top;\n",
       "    }\n",
       "\n",
       "    .dataframe thead th {\n",
       "        text-align: right;\n",
       "    }\n",
       "</style>\n",
       "<table border=\"1\" class=\"dataframe\">\n",
       "  <thead>\n",
       "    <tr style=\"text-align: right;\">\n",
       "      <th></th>\n",
       "      <th>id</th>\n",
       "      <th>county</th>\n",
       "    </tr>\n",
       "  </thead>\n",
       "  <tbody>\n",
       "    <tr>\n",
       "      <th>0</th>\n",
       "      <td>cd1120ac-f345-5b53-baab-74449599067b</td>\n",
       "      <td>Albemarle County</td>\n",
       "    </tr>\n",
       "    <tr>\n",
       "      <th>1</th>\n",
       "      <td>52c07453-ee28-5c0d-978d-d403c78b58af</td>\n",
       "      <td>Charlottesville City</td>\n",
       "    </tr>\n",
       "    <tr>\n",
       "      <th>2</th>\n",
       "      <td>84328055-b1cf-5279-a09a-e98f63e3d09b</td>\n",
       "      <td>Louisa County</td>\n",
       "    </tr>\n",
       "    <tr>\n",
       "      <th>3</th>\n",
       "      <td>ff8d11db-883a-5f59-af56-02105632d7f8</td>\n",
       "      <td>Fluvanna County</td>\n",
       "    </tr>\n",
       "    <tr>\n",
       "      <th>4</th>\n",
       "      <td>6780b594-0747-5b1c-adf0-6b8809c8cdf0</td>\n",
       "      <td>Greene County</td>\n",
       "    </tr>\n",
       "  </tbody>\n",
       "</table>\n",
       "</div>"
      ],
      "text/plain": [
       "                                     id                county\n",
       "0  cd1120ac-f345-5b53-baab-74449599067b      Albemarle County\n",
       "1  52c07453-ee28-5c0d-978d-d403c78b58af  Charlottesville City\n",
       "2  84328055-b1cf-5279-a09a-e98f63e3d09b         Louisa County\n",
       "3  ff8d11db-883a-5f59-af56-02105632d7f8       Fluvanna County\n",
       "4  6780b594-0747-5b1c-adf0-6b8809c8cdf0         Greene County"
      ]
     },
     "execution_count": 14,
     "metadata": {},
     "output_type": "execute_result"
    }
   ],
   "source": [
    "counties_df"
   ]
  },
  {
   "cell_type": "code",
   "execution_count": 15,
   "metadata": {},
   "outputs": [
    {
     "name": "stderr",
     "output_type": "stream",
     "text": [
      "/home/timboslice/UVA/spring24/RentRadar/rentradar/db/duckdb.py:43: UserWarning: pandas only supports SQLAlchemy connectable (engine/connection) or database string URI or sqlite3 DBAPI2 connection. Other DBAPI2 objects are not tested. Please consider using SQLAlchemy.\n",
      "  df.to_sql(table_name, self.conn, if_exists=\"replace\", index=False)\n",
      "2024-02-25 00:04:30,504 - rentradar.db.duckdb - INFO - Table 'counties' created from DataFrame\n"
     ]
    }
   ],
   "source": [
    "db_manager.table_from_dataframe(counties_df, 'counties')"
   ]
  },
  {
   "cell_type": "markdown",
   "metadata": {},
   "source": [
    "Confirm it worked"
   ]
  },
  {
   "cell_type": "code",
   "execution_count": 16,
   "metadata": {},
   "outputs": [
    {
     "name": "stderr",
     "output_type": "stream",
     "text": [
      "2024-02-25 00:04:33,801 - rentradar.db.duckdb - INFO - Executed query: SELECT * FROM counties\n"
     ]
    },
    {
     "data": {
      "text/html": [
       "<div>\n",
       "<style scoped>\n",
       "    .dataframe tbody tr th:only-of-type {\n",
       "        vertical-align: middle;\n",
       "    }\n",
       "\n",
       "    .dataframe tbody tr th {\n",
       "        vertical-align: top;\n",
       "    }\n",
       "\n",
       "    .dataframe thead th {\n",
       "        text-align: right;\n",
       "    }\n",
       "</style>\n",
       "<table border=\"1\" class=\"dataframe\">\n",
       "  <thead>\n",
       "    <tr style=\"text-align: right;\">\n",
       "      <th></th>\n",
       "      <th>id</th>\n",
       "      <th>county</th>\n",
       "    </tr>\n",
       "  </thead>\n",
       "  <tbody>\n",
       "    <tr>\n",
       "      <th>0</th>\n",
       "      <td>cd1120ac-f345-5b53-baab-74449599067b</td>\n",
       "      <td>Albemarle County</td>\n",
       "    </tr>\n",
       "    <tr>\n",
       "      <th>1</th>\n",
       "      <td>52c07453-ee28-5c0d-978d-d403c78b58af</td>\n",
       "      <td>Charlottesville City</td>\n",
       "    </tr>\n",
       "    <tr>\n",
       "      <th>2</th>\n",
       "      <td>84328055-b1cf-5279-a09a-e98f63e3d09b</td>\n",
       "      <td>Louisa County</td>\n",
       "    </tr>\n",
       "    <tr>\n",
       "      <th>3</th>\n",
       "      <td>ff8d11db-883a-5f59-af56-02105632d7f8</td>\n",
       "      <td>Fluvanna County</td>\n",
       "    </tr>\n",
       "    <tr>\n",
       "      <th>4</th>\n",
       "      <td>6780b594-0747-5b1c-adf0-6b8809c8cdf0</td>\n",
       "      <td>Greene County</td>\n",
       "    </tr>\n",
       "  </tbody>\n",
       "</table>\n",
       "</div>"
      ],
      "text/plain": [
       "                                     id                county\n",
       "0  cd1120ac-f345-5b53-baab-74449599067b      Albemarle County\n",
       "1  52c07453-ee28-5c0d-978d-d403c78b58af  Charlottesville City\n",
       "2  84328055-b1cf-5279-a09a-e98f63e3d09b         Louisa County\n",
       "3  ff8d11db-883a-5f59-af56-02105632d7f8       Fluvanna County\n",
       "4  6780b594-0747-5b1c-adf0-6b8809c8cdf0         Greene County"
      ]
     },
     "execution_count": 16,
     "metadata": {},
     "output_type": "execute_result"
    }
   ],
   "source": [
    "db_manager.execute_query('SELECT * FROM counties')"
   ]
  },
  {
   "cell_type": "markdown",
   "metadata": {},
   "source": [
    "### Property types table"
   ]
  },
  {
   "cell_type": "code",
   "execution_count": 18,
   "metadata": {},
   "outputs": [
    {
     "data": {
      "text/plain": [
       "array([nan, 'Apartment', 'Condo', 'Duplex-Triplex', 'Land',\n",
       "       'Manufactured', 'Miscellaneous', 'Multi Family', 'Multi-Family',\n",
       "       'Single Family', 'Townhouse', 'Vacant'], dtype=object)"
      ]
     },
     "execution_count": 18,
     "metadata": {},
     "output_type": "execute_result"
    }
   ],
   "source": [
    "data.properties.propertyType.unique()"
   ]
  },
  {
   "cell_type": "code",
   "execution_count": 19,
   "metadata": {},
   "outputs": [],
   "source": [
    "property_type_map = {\n",
    "    'Multi Family': 'Multi-Family',\n",
    "    'Single Family': 'Single-Family',\n",
    "    'Duplex-Triplex': 'Multi-Family',\n",
    "}\n",
    "data.properties['propertyType'] = data.properties['propertyType'].replace(property_type_map)"
   ]
  },
  {
   "cell_type": "code",
   "execution_count": 21,
   "metadata": {},
   "outputs": [
    {
     "data": {
      "text/plain": [
       "['Apartment',\n",
       " 'Condo',\n",
       " 'Multi-Family',\n",
       " 'Land',\n",
       " 'Manufactured',\n",
       " 'Miscellaneous',\n",
       " 'Single-Family',\n",
       " 'Townhouse',\n",
       " 'Vacant']"
      ]
     },
     "execution_count": 21,
     "metadata": {},
     "output_type": "execute_result"
    }
   ],
   "source": [
    "property_types = data.properties.propertyType.unique()\n",
    "property_types = [x for x in property_types if not pd.isna(x)]\n",
    "property_types"
   ]
  },
  {
   "cell_type": "code",
   "execution_count": 22,
   "metadata": {},
   "outputs": [
    {
     "name": "stderr",
     "output_type": "stream",
     "text": [
      "/home/timboslice/UVA/spring24/RentRadar/rentradar/db/duckdb.py:47: UserWarning: pandas only supports SQLAlchemy connectable (engine/connection) or database string URI or sqlite3 DBAPI2 connection. Other DBAPI2 objects are not tested. Please consider using SQLAlchemy.\n",
      "  df.to_sql(table_name, self.conn, if_exists='replace', index=False)\n"
     ]
    }
   ],
   "source": [
    "property_type_ids = []\n",
    "for p in property_types:\n",
    "    property_type_ids.append(string_to_uuid(p))\n",
    "\n",
    "property_type_descriptions = [\n",
    "    \"A commercial multi-family building or apartment complex (5+ units)\",\n",
    "    \"A single unit in a condominium development or building, which is part of a homeowner’s association (HOA)\",\n",
    "    \"A residential multi-family building (2-4 units)\",\n",
    "    \"A single parcel of vacant, undeveloped land\",\n",
    "    \"A pre-fabricated or mobile home, typically constructed at a factory\",\n",
    "    \"A miscellaneous property type\",\n",
    "    \"A detached, single-family property\",\n",
    "    \"A single-family property that shares walls with other adjacent homes, and is typically part of a homeowner’s association (HOA)\",\n",
    "    \"A property that is unoccupied\"\n",
    "]\n",
    "\n",
    "property_types_df = pd.DataFrame({\"id\":property_type_ids, \"propertyType\":property_types, \"description\":property_type_descriptions})\n",
    "\n",
    "db_manager.table_from_dataframe(property_types_df, 'property_types')"
   ]
  },
  {
   "cell_type": "code",
   "execution_count": 23,
   "metadata": {},
   "outputs": [
    {
     "data": {
      "text/html": [
       "<div>\n",
       "<style scoped>\n",
       "    .dataframe tbody tr th:only-of-type {\n",
       "        vertical-align: middle;\n",
       "    }\n",
       "\n",
       "    .dataframe tbody tr th {\n",
       "        vertical-align: top;\n",
       "    }\n",
       "\n",
       "    .dataframe thead th {\n",
       "        text-align: right;\n",
       "    }\n",
       "</style>\n",
       "<table border=\"1\" class=\"dataframe\">\n",
       "  <thead>\n",
       "    <tr style=\"text-align: right;\">\n",
       "      <th></th>\n",
       "      <th>id</th>\n",
       "      <th>propertyType</th>\n",
       "      <th>description</th>\n",
       "    </tr>\n",
       "  </thead>\n",
       "  <tbody>\n",
       "    <tr>\n",
       "      <th>0</th>\n",
       "      <td>696f487f-8604-52ae-b450-2e9fe9075f34</td>\n",
       "      <td>Apartment</td>\n",
       "      <td>A commercial multi-family building or apartmen...</td>\n",
       "    </tr>\n",
       "    <tr>\n",
       "      <th>1</th>\n",
       "      <td>e6bd4a8e-d5c3-55ec-8b15-d64daedbb5f2</td>\n",
       "      <td>Condo</td>\n",
       "      <td>A single unit in a condominium development or ...</td>\n",
       "    </tr>\n",
       "    <tr>\n",
       "      <th>2</th>\n",
       "      <td>1adb7637-5e3e-5de1-8206-6a5b698af656</td>\n",
       "      <td>Multi-Family</td>\n",
       "      <td>A residential multi-family building (2-4 units)</td>\n",
       "    </tr>\n",
       "    <tr>\n",
       "      <th>3</th>\n",
       "      <td>0f366103-9b27-5a94-86e7-e3875d7cb873</td>\n",
       "      <td>Land</td>\n",
       "      <td>A single parcel of vacant, undeveloped land</td>\n",
       "    </tr>\n",
       "    <tr>\n",
       "      <th>4</th>\n",
       "      <td>fbc1533c-5c67-5893-b9c2-0567f0755cdf</td>\n",
       "      <td>Manufactured</td>\n",
       "      <td>A pre-fabricated or mobile home, typically con...</td>\n",
       "    </tr>\n",
       "    <tr>\n",
       "      <th>5</th>\n",
       "      <td>277c3ebc-87ce-5991-88b3-c1d264b51d69</td>\n",
       "      <td>Miscellaneous</td>\n",
       "      <td>A miscellaneous property type</td>\n",
       "    </tr>\n",
       "    <tr>\n",
       "      <th>6</th>\n",
       "      <td>f34e0b29-6f03-5819-95e3-e96f579d4106</td>\n",
       "      <td>Single-Family</td>\n",
       "      <td>A detached, single-family property</td>\n",
       "    </tr>\n",
       "    <tr>\n",
       "      <th>7</th>\n",
       "      <td>056ac94a-b8d4-5ba3-a244-740e9b78ac33</td>\n",
       "      <td>Townhouse</td>\n",
       "      <td>A single-family property that shares walls wit...</td>\n",
       "    </tr>\n",
       "    <tr>\n",
       "      <th>8</th>\n",
       "      <td>d811e570-3d63-51e4-a59d-5cae303322c3</td>\n",
       "      <td>Vacant</td>\n",
       "      <td>A property that is unoccupied</td>\n",
       "    </tr>\n",
       "  </tbody>\n",
       "</table>\n",
       "</div>"
      ],
      "text/plain": [
       "                                     id   propertyType  \\\n",
       "0  696f487f-8604-52ae-b450-2e9fe9075f34      Apartment   \n",
       "1  e6bd4a8e-d5c3-55ec-8b15-d64daedbb5f2          Condo   \n",
       "2  1adb7637-5e3e-5de1-8206-6a5b698af656   Multi-Family   \n",
       "3  0f366103-9b27-5a94-86e7-e3875d7cb873           Land   \n",
       "4  fbc1533c-5c67-5893-b9c2-0567f0755cdf   Manufactured   \n",
       "5  277c3ebc-87ce-5991-88b3-c1d264b51d69  Miscellaneous   \n",
       "6  f34e0b29-6f03-5819-95e3-e96f579d4106  Single-Family   \n",
       "7  056ac94a-b8d4-5ba3-a244-740e9b78ac33      Townhouse   \n",
       "8  d811e570-3d63-51e4-a59d-5cae303322c3         Vacant   \n",
       "\n",
       "                                         description  \n",
       "0  A commercial multi-family building or apartmen...  \n",
       "1  A single unit in a condominium development or ...  \n",
       "2    A residential multi-family building (2-4 units)  \n",
       "3        A single parcel of vacant, undeveloped land  \n",
       "4  A pre-fabricated or mobile home, typically con...  \n",
       "5                      A miscellaneous property type  \n",
       "6                 A detached, single-family property  \n",
       "7  A single-family property that shares walls wit...  \n",
       "8                      A property that is unoccupied  "
      ]
     },
     "execution_count": 23,
     "metadata": {},
     "output_type": "execute_result"
    }
   ],
   "source": [
    "db_manager.execute_query('SELECT * FROM property_types')"
   ]
  },
  {
   "cell_type": "markdown",
   "metadata": {},
   "source": [
    "### Tax assessments table"
   ]
  },
  {
   "cell_type": "code",
   "execution_count": 25,
   "metadata": {},
   "outputs": [],
   "source": [
    "tax_assessments = data.properties[['property_id', 'taxAssessments']]"
   ]
  },
  {
   "cell_type": "code",
   "execution_count": 28,
   "metadata": {},
   "outputs": [
    {
     "name": "stderr",
     "output_type": "stream",
     "text": [
      "/home/timboslice/UVA/spring24/RentRadar/rentradar/db/duckdb.py:47: UserWarning: pandas only supports SQLAlchemy connectable (engine/connection) or database string URI or sqlite3 DBAPI2 connection. Other DBAPI2 objects are not tested. Please consider using SQLAlchemy.\n",
      "  df.to_sql(table_name, self.conn, if_exists='replace', index=False)\n"
     ]
    }
   ],
   "source": [
    "tax_assessments = tax_assessments.explode('taxAssessments')\n",
    "tax_assessments.dropna(subset=['taxAssessments'], inplace=True)\n",
    "tax_assessments['taxAssessments'] = tax_assessments['taxAssessments'].apply(ast.literal_eval)\n",
    "\n",
    "rows = []\n",
    "for idx, row in tax_assessments.iterrows():\n",
    "    for year, assessment in row['taxAssessments'].items():\n",
    "        rows.append({\n",
    "            'property_id': row['property_id'],\n",
    "            'year': year,\n",
    "            'total_value': assessment.get('value', None),\n",
    "            'land_value': assessment.get('land', None),\n",
    "            'improvements_value': assessment.get('improvements', None)\n",
    "        })\n",
    "\n",
    "tax_assessments = pd.DataFrame(rows)\n",
    "\n",
    "tax_assessments['assessment_id'] = tax_assessments.apply(\n",
    "    lambda row: uuid.uuid5(uuid.NAMESPACE_DNS, str(row['property_id']) + str(row['year'])),\n",
    "    axis=1\n",
    ")\n",
    "\n",
    "tax_assessments = tax_assessments[['assessment_id', 'property_id', 'year', 'total_value', 'land_value', 'improvements_value']]\n",
    "\n",
    "db_manager.table_from_dataframe(tax_assessments, 'tax_assessments')"
   ]
  },
  {
   "cell_type": "code",
   "execution_count": 30,
   "metadata": {},
   "outputs": [
    {
     "data": {
      "text/html": [
       "<div>\n",
       "<style scoped>\n",
       "    .dataframe tbody tr th:only-of-type {\n",
       "        vertical-align: middle;\n",
       "    }\n",
       "\n",
       "    .dataframe tbody tr th {\n",
       "        vertical-align: top;\n",
       "    }\n",
       "\n",
       "    .dataframe thead th {\n",
       "        text-align: right;\n",
       "    }\n",
       "</style>\n",
       "<table border=\"1\" class=\"dataframe\">\n",
       "  <thead>\n",
       "    <tr style=\"text-align: right;\">\n",
       "      <th></th>\n",
       "      <th>assessment_id</th>\n",
       "      <th>property_id</th>\n",
       "      <th>year</th>\n",
       "      <th>total_value</th>\n",
       "      <th>land_value</th>\n",
       "      <th>improvements_value</th>\n",
       "    </tr>\n",
       "  </thead>\n",
       "  <tbody>\n",
       "    <tr>\n",
       "      <th>0</th>\n",
       "      <td>98d21fd0-bde0-5880-99fd-d5c57c0553fa</td>\n",
       "      <td>be793931-39ee-5c0c-803b-bde70a082871</td>\n",
       "      <td>2023</td>\n",
       "      <td>281400.0</td>\n",
       "      <td>281300.0</td>\n",
       "      <td>100.0</td>\n",
       "    </tr>\n",
       "    <tr>\n",
       "      <th>1</th>\n",
       "      <td>283a33f7-b245-507e-9d8b-16e6da32a55d</td>\n",
       "      <td>f4983b4c-3991-569f-8291-73134d413851</td>\n",
       "      <td>2020</td>\n",
       "      <td>44053100.0</td>\n",
       "      <td>4400000.0</td>\n",
       "      <td>39653100.0</td>\n",
       "    </tr>\n",
       "    <tr>\n",
       "      <th>2</th>\n",
       "      <td>c5cd6269-3b51-5d32-808c-21a0740cc912</td>\n",
       "      <td>109dbee5-149b-5856-b87e-1e7961a423a9</td>\n",
       "      <td>2022</td>\n",
       "      <td>57136000.0</td>\n",
       "      <td>4480000.0</td>\n",
       "      <td>52656000.0</td>\n",
       "    </tr>\n",
       "    <tr>\n",
       "      <th>3</th>\n",
       "      <td>47aad8b6-23fd-5b41-ab33-e9b9656ad9e1</td>\n",
       "      <td>109dbee5-149b-5856-b87e-1e7961a423a9</td>\n",
       "      <td>2023</td>\n",
       "      <td>73294096.0</td>\n",
       "      <td>5320000.0</td>\n",
       "      <td>67974096.0</td>\n",
       "    </tr>\n",
       "    <tr>\n",
       "      <th>4</th>\n",
       "      <td>d8391a7b-6ede-536c-8e99-b51274a5aff2</td>\n",
       "      <td>a8a4e290-72b9-57af-8a45-44030f66d7c6</td>\n",
       "      <td>2019</td>\n",
       "      <td>563300.0</td>\n",
       "      <td>177000.0</td>\n",
       "      <td>386300.0</td>\n",
       "    </tr>\n",
       "  </tbody>\n",
       "</table>\n",
       "</div>"
      ],
      "text/plain": [
       "                          assessment_id                           property_id  \\\n",
       "0  98d21fd0-bde0-5880-99fd-d5c57c0553fa  be793931-39ee-5c0c-803b-bde70a082871   \n",
       "1  283a33f7-b245-507e-9d8b-16e6da32a55d  f4983b4c-3991-569f-8291-73134d413851   \n",
       "2  c5cd6269-3b51-5d32-808c-21a0740cc912  109dbee5-149b-5856-b87e-1e7961a423a9   \n",
       "3  47aad8b6-23fd-5b41-ab33-e9b9656ad9e1  109dbee5-149b-5856-b87e-1e7961a423a9   \n",
       "4  d8391a7b-6ede-536c-8e99-b51274a5aff2  a8a4e290-72b9-57af-8a45-44030f66d7c6   \n",
       "\n",
       "   year  total_value  land_value  improvements_value  \n",
       "0  2023     281400.0    281300.0               100.0  \n",
       "1  2020   44053100.0   4400000.0          39653100.0  \n",
       "2  2022   57136000.0   4480000.0          52656000.0  \n",
       "3  2023   73294096.0   5320000.0          67974096.0  \n",
       "4  2019     563300.0    177000.0            386300.0  "
      ]
     },
     "execution_count": 30,
     "metadata": {},
     "output_type": "execute_result"
    }
   ],
   "source": [
    "db_manager.execute_query('SELECT * FROM tax_assessments').head()"
   ]
  },
  {
   "cell_type": "markdown",
   "metadata": {},
   "source": [
    "### Property taxes table"
   ]
  },
  {
   "cell_type": "code",
   "execution_count": 31,
   "metadata": {},
   "outputs": [
    {
     "name": "stderr",
     "output_type": "stream",
     "text": [
      "/tmp/ipykernel_1167407/1606096941.py:2: SettingWithCopyWarning: \n",
      "A value is trying to be set on a copy of a slice from a DataFrame\n",
      "\n",
      "See the caveats in the documentation: https://pandas.pydata.org/pandas-docs/stable/user_guide/indexing.html#returning-a-view-versus-a-copy\n",
      "  property_taxes.dropna(subset=['propertyTaxes'], inplace=True)\n",
      "/tmp/ipykernel_1167407/1606096941.py:3: SettingWithCopyWarning: \n",
      "A value is trying to be set on a copy of a slice from a DataFrame.\n",
      "Try using .loc[row_indexer,col_indexer] = value instead\n",
      "\n",
      "See the caveats in the documentation: https://pandas.pydata.org/pandas-docs/stable/user_guide/indexing.html#returning-a-view-versus-a-copy\n",
      "  property_taxes['propertyTaxes'] = property_taxes['propertyTaxes'].apply(ast.literal_eval)\n",
      "/home/timboslice/UVA/spring24/RentRadar/rentradar/db/duckdb.py:47: UserWarning: pandas only supports SQLAlchemy connectable (engine/connection) or database string URI or sqlite3 DBAPI2 connection. Other DBAPI2 objects are not tested. Please consider using SQLAlchemy.\n",
      "  df.to_sql(table_name, self.conn, if_exists='replace', index=False)\n"
     ]
    }
   ],
   "source": [
    "property_taxes = data.properties[['property_id', 'propertyTaxes']]\n",
    "property_taxes.dropna(subset=['propertyTaxes'], inplace=True)\n",
    "property_taxes['propertyTaxes'] = property_taxes['propertyTaxes'].apply(ast.literal_eval)\n",
    "rows = []\n",
    "for idx, row in property_taxes.iterrows():\n",
    "    for year, assessment in row['propertyTaxes'].items():\n",
    "        rows.append({\n",
    "            'property_id': row['property_id'],\n",
    "            'year': year,\n",
    "            'total': assessment.get('total', None),\n",
    "        })\n",
    "property_taxes = pd.DataFrame(rows)\n",
    "\n",
    "property_taxes['property_tax_id'] = property_taxes.apply(\n",
    "    lambda row: uuid.uuid5(uuid.NAMESPACE_DNS, str(row['property_id']) + str(row['year'])),\n",
    "    axis=1\n",
    ")\n",
    "property_taxes = property_taxes[['property_tax_id', 'property_id', 'year', 'total']]\n",
    "db_manager.table_from_dataframe(property_taxes, 'property_taxes')"
   ]
  },
  {
   "cell_type": "code",
   "execution_count": 32,
   "metadata": {},
   "outputs": [
    {
     "data": {
      "text/html": [
       "<div>\n",
       "<style scoped>\n",
       "    .dataframe tbody tr th:only-of-type {\n",
       "        vertical-align: middle;\n",
       "    }\n",
       "\n",
       "    .dataframe tbody tr th {\n",
       "        vertical-align: top;\n",
       "    }\n",
       "\n",
       "    .dataframe thead th {\n",
       "        text-align: right;\n",
       "    }\n",
       "</style>\n",
       "<table border=\"1\" class=\"dataframe\">\n",
       "  <thead>\n",
       "    <tr style=\"text-align: right;\">\n",
       "      <th></th>\n",
       "      <th>property_tax_id</th>\n",
       "      <th>property_id</th>\n",
       "      <th>year</th>\n",
       "      <th>total</th>\n",
       "    </tr>\n",
       "  </thead>\n",
       "  <tbody>\n",
       "    <tr>\n",
       "      <th>0</th>\n",
       "      <td>a9a2b0c2-f9d0-5bff-a416-d15d06c1bac3</td>\n",
       "      <td>be793931-39ee-5c0c-803b-bde70a082871</td>\n",
       "      <td>2022</td>\n",
       "      <td>2403</td>\n",
       "    </tr>\n",
       "    <tr>\n",
       "      <th>1</th>\n",
       "      <td>a55ab43f-4ae0-5fb2-ad31-2e3b919b267f</td>\n",
       "      <td>f4983b4c-3991-569f-8291-73134d413851</td>\n",
       "      <td>2019</td>\n",
       "      <td>366281</td>\n",
       "    </tr>\n",
       "    <tr>\n",
       "      <th>2</th>\n",
       "      <td>0b109fe6-1048-5806-a71b-18c91b9f9e7f</td>\n",
       "      <td>109dbee5-149b-5856-b87e-1e7961a423a9</td>\n",
       "      <td>2021</td>\n",
       "      <td>435435</td>\n",
       "    </tr>\n",
       "    <tr>\n",
       "      <th>3</th>\n",
       "      <td>c5cd6269-3b51-5d32-808c-21a0740cc912</td>\n",
       "      <td>109dbee5-149b-5856-b87e-1e7961a423a9</td>\n",
       "      <td>2022</td>\n",
       "      <td>487941</td>\n",
       "    </tr>\n",
       "    <tr>\n",
       "      <th>4</th>\n",
       "      <td>d8391a7b-6ede-536c-8e99-b51274a5aff2</td>\n",
       "      <td>a8a4e290-72b9-57af-8a45-44030f66d7c6</td>\n",
       "      <td>2019</td>\n",
       "      <td>2748</td>\n",
       "    </tr>\n",
       "  </tbody>\n",
       "</table>\n",
       "</div>"
      ],
      "text/plain": [
       "                        property_tax_id                           property_id  \\\n",
       "0  a9a2b0c2-f9d0-5bff-a416-d15d06c1bac3  be793931-39ee-5c0c-803b-bde70a082871   \n",
       "1  a55ab43f-4ae0-5fb2-ad31-2e3b919b267f  f4983b4c-3991-569f-8291-73134d413851   \n",
       "2  0b109fe6-1048-5806-a71b-18c91b9f9e7f  109dbee5-149b-5856-b87e-1e7961a423a9   \n",
       "3  c5cd6269-3b51-5d32-808c-21a0740cc912  109dbee5-149b-5856-b87e-1e7961a423a9   \n",
       "4  d8391a7b-6ede-536c-8e99-b51274a5aff2  a8a4e290-72b9-57af-8a45-44030f66d7c6   \n",
       "\n",
       "   year   total  \n",
       "0  2022    2403  \n",
       "1  2019  366281  \n",
       "2  2021  435435  \n",
       "3  2022  487941  \n",
       "4  2019    2748  "
      ]
     },
     "execution_count": 32,
     "metadata": {},
     "output_type": "execute_result"
    }
   ],
   "source": [
    "db_manager.execute_query('SELECT * FROM property_taxes').head()"
   ]
  },
  {
   "cell_type": "markdown",
   "metadata": {},
   "source": [
    "### Property features table"
   ]
  },
  {
   "cell_type": "code",
   "execution_count": 7,
   "metadata": {},
   "outputs": [
    {
     "name": "stderr",
     "output_type": "stream",
     "text": [
      "/tmp/ipykernel_1181295/2711948159.py:2: SettingWithCopyWarning: \n",
      "A value is trying to be set on a copy of a slice from a DataFrame\n",
      "\n",
      "See the caveats in the documentation: https://pandas.pydata.org/pandas-docs/stable/user_guide/indexing.html#returning-a-view-versus-a-copy\n",
      "  property_features.dropna(subset=['features'], inplace=True)\n",
      "/tmp/ipykernel_1181295/2711948159.py:3: SettingWithCopyWarning: \n",
      "A value is trying to be set on a copy of a slice from a DataFrame.\n",
      "Try using .loc[row_indexer,col_indexer] = value instead\n",
      "\n",
      "See the caveats in the documentation: https://pandas.pydata.org/pandas-docs/stable/user_guide/indexing.html#returning-a-view-versus-a-copy\n",
      "  property_features['features'] = property_features['features'].apply(ast.literal_eval)\n",
      "/home/timboslice/UVA/spring24/RentRadar/rentradar/db/duckdb.py:47: UserWarning: pandas only supports SQLAlchemy connectable (engine/connection) or database string URI or sqlite3 DBAPI2 connection. Other DBAPI2 objects are not tested. Please consider using SQLAlchemy.\n",
      "  df.to_sql(table_name, self.conn, if_exists='replace', index=False)\n"
     ]
    }
   ],
   "source": [
    "property_features = data.properties[['property_id', 'features']]\n",
    "property_features.dropna(subset=['features'], inplace=True)\n",
    "property_features['features'] = property_features['features'].apply(ast.literal_eval)\n",
    "property_features = property_features[property_features['features'].apply(lambda x: bool(x))]\n",
    "property_features_expanded = pd.json_normalize(property_features['features'])\n",
    "property_features = property_features.join(property_features_expanded)\n",
    "property_features.drop(columns=['features'], inplace=True)\n",
    "data.properties.drop(columns=['features'], inplace=True)\n",
    "properties_subset = data.properties[['property_id', 'bedrooms', 'bathrooms', 'squareFootage', 'lotSize']]\n",
    "property_features = pd.merge(properties_subset, property_features, on='property_id', how='outer')\n",
    "db_manager.table_from_dataframe(property_features, 'property_features')"
   ]
  },
  {
   "cell_type": "code",
   "execution_count": 8,
   "metadata": {},
   "outputs": [
    {
     "data": {
      "text/html": [
       "<div>\n",
       "<style scoped>\n",
       "    .dataframe tbody tr th:only-of-type {\n",
       "        vertical-align: middle;\n",
       "    }\n",
       "\n",
       "    .dataframe tbody tr th {\n",
       "        vertical-align: top;\n",
       "    }\n",
       "\n",
       "    .dataframe thead th {\n",
       "        text-align: right;\n",
       "    }\n",
       "</style>\n",
       "<table border=\"1\" class=\"dataframe\">\n",
       "  <thead>\n",
       "    <tr style=\"text-align: right;\">\n",
       "      <th></th>\n",
       "      <th>property_id</th>\n",
       "      <th>bedrooms</th>\n",
       "      <th>bathrooms</th>\n",
       "      <th>squareFootage</th>\n",
       "      <th>lotSize</th>\n",
       "      <th>floorCount</th>\n",
       "      <th>garage</th>\n",
       "      <th>garageType</th>\n",
       "      <th>architectureType</th>\n",
       "      <th>exteriorType</th>\n",
       "      <th>...</th>\n",
       "      <th>unitCount</th>\n",
       "      <th>garageSpaces</th>\n",
       "      <th>roofType</th>\n",
       "      <th>foundationType</th>\n",
       "      <th>roomCount</th>\n",
       "      <th>fireplace</th>\n",
       "      <th>fireplaceType</th>\n",
       "      <th>pool</th>\n",
       "      <th>poolType</th>\n",
       "      <th>viewType</th>\n",
       "    </tr>\n",
       "  </thead>\n",
       "  <tbody>\n",
       "    <tr>\n",
       "      <th>0</th>\n",
       "      <td>0002939e-49d9-5578-b0fd-2bdac3057bae</td>\n",
       "      <td>NaN</td>\n",
       "      <td>NaN</td>\n",
       "      <td>NaN</td>\n",
       "      <td>NaN</td>\n",
       "      <td>NaN</td>\n",
       "      <td>NaN</td>\n",
       "      <td>None</td>\n",
       "      <td>None</td>\n",
       "      <td>None</td>\n",
       "      <td>...</td>\n",
       "      <td>NaN</td>\n",
       "      <td>NaN</td>\n",
       "      <td>None</td>\n",
       "      <td>None</td>\n",
       "      <td>NaN</td>\n",
       "      <td>NaN</td>\n",
       "      <td>None</td>\n",
       "      <td>NaN</td>\n",
       "      <td>None</td>\n",
       "      <td>None</td>\n",
       "    </tr>\n",
       "    <tr>\n",
       "      <th>1</th>\n",
       "      <td>00075623-f6c9-54ba-a326-367830d9d027</td>\n",
       "      <td>NaN</td>\n",
       "      <td>1.0</td>\n",
       "      <td>722.0</td>\n",
       "      <td>NaN</td>\n",
       "      <td>2.0</td>\n",
       "      <td>NaN</td>\n",
       "      <td>None</td>\n",
       "      <td>Townhouse</td>\n",
       "      <td>Brick</td>\n",
       "      <td>...</td>\n",
       "      <td>1.0</td>\n",
       "      <td>NaN</td>\n",
       "      <td>Composition Shingle</td>\n",
       "      <td>None</td>\n",
       "      <td>6.0</td>\n",
       "      <td>1.0</td>\n",
       "      <td>Prefab</td>\n",
       "      <td>NaN</td>\n",
       "      <td>None</td>\n",
       "      <td>None</td>\n",
       "    </tr>\n",
       "    <tr>\n",
       "      <th>2</th>\n",
       "      <td>00098105-7a85-5d19-9dc5-630ba94b6a4f</td>\n",
       "      <td>3.0</td>\n",
       "      <td>4.0</td>\n",
       "      <td>4228.0</td>\n",
       "      <td>206474.0</td>\n",
       "      <td>NaN</td>\n",
       "      <td>NaN</td>\n",
       "      <td>None</td>\n",
       "      <td>None</td>\n",
       "      <td>None</td>\n",
       "      <td>...</td>\n",
       "      <td>NaN</td>\n",
       "      <td>NaN</td>\n",
       "      <td>None</td>\n",
       "      <td>None</td>\n",
       "      <td>NaN</td>\n",
       "      <td>NaN</td>\n",
       "      <td>None</td>\n",
       "      <td>NaN</td>\n",
       "      <td>None</td>\n",
       "      <td>None</td>\n",
       "    </tr>\n",
       "    <tr>\n",
       "      <th>3</th>\n",
       "      <td>000d73a9-4b7d-5169-8e7f-fcd1fd1440da</td>\n",
       "      <td>NaN</td>\n",
       "      <td>NaN</td>\n",
       "      <td>NaN</td>\n",
       "      <td>NaN</td>\n",
       "      <td>NaN</td>\n",
       "      <td>NaN</td>\n",
       "      <td>None</td>\n",
       "      <td>None</td>\n",
       "      <td>None</td>\n",
       "      <td>...</td>\n",
       "      <td>NaN</td>\n",
       "      <td>NaN</td>\n",
       "      <td>None</td>\n",
       "      <td>None</td>\n",
       "      <td>NaN</td>\n",
       "      <td>NaN</td>\n",
       "      <td>None</td>\n",
       "      <td>NaN</td>\n",
       "      <td>None</td>\n",
       "      <td>None</td>\n",
       "    </tr>\n",
       "    <tr>\n",
       "      <th>4</th>\n",
       "      <td>000dac9e-f13e-5da8-9770-91b5aa0478b9</td>\n",
       "      <td>NaN</td>\n",
       "      <td>NaN</td>\n",
       "      <td>NaN</td>\n",
       "      <td>NaN</td>\n",
       "      <td>NaN</td>\n",
       "      <td>NaN</td>\n",
       "      <td>None</td>\n",
       "      <td>None</td>\n",
       "      <td>None</td>\n",
       "      <td>...</td>\n",
       "      <td>NaN</td>\n",
       "      <td>NaN</td>\n",
       "      <td>None</td>\n",
       "      <td>None</td>\n",
       "      <td>NaN</td>\n",
       "      <td>NaN</td>\n",
       "      <td>None</td>\n",
       "      <td>NaN</td>\n",
       "      <td>None</td>\n",
       "      <td>None</td>\n",
       "    </tr>\n",
       "  </tbody>\n",
       "</table>\n",
       "<p>5 rows × 24 columns</p>\n",
       "</div>"
      ],
      "text/plain": [
       "                            property_id  bedrooms  bathrooms  squareFootage  \\\n",
       "0  0002939e-49d9-5578-b0fd-2bdac3057bae       NaN        NaN            NaN   \n",
       "1  00075623-f6c9-54ba-a326-367830d9d027       NaN        1.0          722.0   \n",
       "2  00098105-7a85-5d19-9dc5-630ba94b6a4f       3.0        4.0         4228.0   \n",
       "3  000d73a9-4b7d-5169-8e7f-fcd1fd1440da       NaN        NaN            NaN   \n",
       "4  000dac9e-f13e-5da8-9770-91b5aa0478b9       NaN        NaN            NaN   \n",
       "\n",
       "    lotSize  floorCount  garage garageType architectureType exteriorType  ...  \\\n",
       "0       NaN         NaN     NaN       None             None         None  ...   \n",
       "1       NaN         2.0     NaN       None        Townhouse        Brick  ...   \n",
       "2  206474.0         NaN     NaN       None             None         None  ...   \n",
       "3       NaN         NaN     NaN       None             None         None  ...   \n",
       "4       NaN         NaN     NaN       None             None         None  ...   \n",
       "\n",
       "   unitCount garageSpaces             roofType foundationType  roomCount  \\\n",
       "0        NaN          NaN                 None           None        NaN   \n",
       "1        1.0          NaN  Composition Shingle           None        6.0   \n",
       "2        NaN          NaN                 None           None        NaN   \n",
       "3        NaN          NaN                 None           None        NaN   \n",
       "4        NaN          NaN                 None           None        NaN   \n",
       "\n",
       "   fireplace fireplaceType pool  poolType  viewType  \n",
       "0        NaN          None  NaN      None      None  \n",
       "1        1.0        Prefab  NaN      None      None  \n",
       "2        NaN          None  NaN      None      None  \n",
       "3        NaN          None  NaN      None      None  \n",
       "4        NaN          None  NaN      None      None  \n",
       "\n",
       "[5 rows x 24 columns]"
      ]
     },
     "execution_count": 8,
     "metadata": {},
     "output_type": "execute_result"
    }
   ],
   "source": [
    "db_manager.execute_query('SELECT * FROM property_features').head()"
   ]
  },
  {
   "cell_type": "markdown",
   "metadata": {},
   "source": [
    "### Property owners table"
   ]
  },
  {
   "cell_type": "code",
   "execution_count": 10,
   "metadata": {},
   "outputs": [
    {
     "name": "stderr",
     "output_type": "stream",
     "text": [
      "/tmp/ipykernel_1181295/1876559855.py:2: SettingWithCopyWarning: \n",
      "A value is trying to be set on a copy of a slice from a DataFrame\n",
      "\n",
      "See the caveats in the documentation: https://pandas.pydata.org/pandas-docs/stable/user_guide/indexing.html#returning-a-view-versus-a-copy\n",
      "  property_owners.dropna(subset=['owner'], inplace=True)\n",
      "/tmp/ipykernel_1181295/1876559855.py:3: SettingWithCopyWarning: \n",
      "A value is trying to be set on a copy of a slice from a DataFrame.\n",
      "Try using .loc[row_indexer,col_indexer] = value instead\n",
      "\n",
      "See the caveats in the documentation: https://pandas.pydata.org/pandas-docs/stable/user_guide/indexing.html#returning-a-view-versus-a-copy\n",
      "  property_owners['owner'] = property_owners['owner'].apply(ast.literal_eval)\n"
     ]
    }
   ],
   "source": [
    "property_owners = data.properties[['property_id', 'owner']]\n",
    "property_owners.dropna(subset=['owner'], inplace=True)\n",
    "property_owners['owner'] = property_owners['owner'].apply(ast.literal_eval)\n",
    "property_owners_expanded = pd.json_normalize(property_owners['owner'])\n",
    "property_owners.reset_index(inplace=True)\n",
    "property_owners = property_owners.join(property_owners_expanded)\n",
    "property_owners.drop(columns=['owner', 'index'], inplace=True)\n",
    "max_owners = property_owners['names'].apply(len).max()\n",
    "\n",
    "for i in range(max_owners):\n",
    "    property_owners[f'owner{i+1}'] = property_owners['names'].apply(lambda x: x[i] if i < len(x) else None)\n",
    "\n",
    "property_owners.owner2.isnull().sum()\n",
    "property_owners.rename(columns={'owner1':'owner'}, inplace=True)\n",
    "property_owners['owner_id'] = property_owners.apply(\n",
    "    lambda row: uuid.uuid5(uuid.NAMESPACE_DNS, str(row['owner'])),\n",
    "    axis=1\n",
    ")\n",
    "property_owners = property_owners[['owner_id', 'property_id', 'owner']]\n",
    "db_manager.table_from_dataframe(property_owners, 'property_owners')"
   ]
  },
  {
   "cell_type": "code",
   "execution_count": 26,
   "metadata": {},
   "outputs": [
    {
     "data": {
      "text/html": [
       "<div>\n",
       "<style scoped>\n",
       "    .dataframe tbody tr th:only-of-type {\n",
       "        vertical-align: middle;\n",
       "    }\n",
       "\n",
       "    .dataframe tbody tr th {\n",
       "        vertical-align: top;\n",
       "    }\n",
       "\n",
       "    .dataframe thead th {\n",
       "        text-align: right;\n",
       "    }\n",
       "</style>\n",
       "<table border=\"1\" class=\"dataframe\">\n",
       "  <thead>\n",
       "    <tr style=\"text-align: right;\">\n",
       "      <th></th>\n",
       "      <th>property_id</th>\n",
       "      <th>owner_id</th>\n",
       "    </tr>\n",
       "  </thead>\n",
       "  <tbody>\n",
       "    <tr>\n",
       "      <th>0</th>\n",
       "      <td>be793931-39ee-5c0c-803b-bde70a082871</td>\n",
       "      <td>548214dc-a57a-5937-8255-a22348e7eb3e</td>\n",
       "    </tr>\n",
       "    <tr>\n",
       "      <th>1</th>\n",
       "      <td>f4983b4c-3991-569f-8291-73134d413851</td>\n",
       "      <td>38a0b4d7-c999-543c-a788-fa5b651f2750</td>\n",
       "    </tr>\n",
       "    <tr>\n",
       "      <th>2</th>\n",
       "      <td>109dbee5-149b-5856-b87e-1e7961a423a9</td>\n",
       "      <td>5fccf1eb-86f9-566e-a2fb-5d3e98ba3d16</td>\n",
       "    </tr>\n",
       "    <tr>\n",
       "      <th>3</th>\n",
       "      <td>a8a4e290-72b9-57af-8a45-44030f66d7c6</td>\n",
       "      <td>4fd50534-6bd2-5182-b4c8-18f962eb44af</td>\n",
       "    </tr>\n",
       "    <tr>\n",
       "      <th>4</th>\n",
       "      <td>15fe5def-b66a-580e-a5b3-3994247571f7</td>\n",
       "      <td>06ebb77a-ab8b-50cc-ba4b-18df2bbdbb0d</td>\n",
       "    </tr>\n",
       "  </tbody>\n",
       "</table>\n",
       "</div>"
      ],
      "text/plain": [
       "                            property_id                              owner_id\n",
       "0  be793931-39ee-5c0c-803b-bde70a082871  548214dc-a57a-5937-8255-a22348e7eb3e\n",
       "1  f4983b4c-3991-569f-8291-73134d413851  38a0b4d7-c999-543c-a788-fa5b651f2750\n",
       "2  109dbee5-149b-5856-b87e-1e7961a423a9  5fccf1eb-86f9-566e-a2fb-5d3e98ba3d16\n",
       "3  a8a4e290-72b9-57af-8a45-44030f66d7c6  4fd50534-6bd2-5182-b4c8-18f962eb44af\n",
       "4  15fe5def-b66a-580e-a5b3-3994247571f7  06ebb77a-ab8b-50cc-ba4b-18df2bbdbb0d"
      ]
     },
     "execution_count": 26,
     "metadata": {},
     "output_type": "execute_result"
    }
   ],
   "source": [
    "db_manager.execute_query('SELECT property_id, owner_id FROM property_owners').head()"
   ]
  },
  {
   "cell_type": "markdown",
   "metadata": {},
   "source": [
    "### Properties table"
   ]
  },
  {
   "cell_type": "code",
   "execution_count": 27,
   "metadata": {},
   "outputs": [],
   "source": [
    "properties = data.properties"
   ]
  },
  {
   "cell_type": "code",
   "execution_count": 29,
   "metadata": {},
   "outputs": [
    {
     "data": {
      "text/plain": [
       "Index(['id', 'formattedAddress', 'addressLine1', 'addressLine2', 'city',\n",
       "       'state', 'zipCode', 'county', 'latitude', 'longitude', 'lastSaleDate',\n",
       "       'lastSalePrice', 'bedrooms', 'bathrooms', 'squareFootage',\n",
       "       'propertyType', 'lotSize', 'yearBuilt', 'assessorID',\n",
       "       'legalDescription', 'subdivision', 'zoning', 'taxAssessments',\n",
       "       'propertyTaxes', 'owner', 'ownerOccupied', 'property_id'],\n",
       "      dtype='object')"
      ]
     },
     "execution_count": 29,
     "metadata": {},
     "output_type": "execute_result"
    }
   ],
   "source": [
    "properties.columns"
   ]
  },
  {
   "cell_type": "code",
   "execution_count": 30,
   "metadata": {},
   "outputs": [],
   "source": [
    "properties.drop(columns=['owner', 'taxAssessments', 'propertyTaxes', 'bedrooms', 'bathrooms', 'squareFootage', 'lotSize'], inplace=True)"
   ]
  },
  {
   "cell_type": "code",
   "execution_count": 34,
   "metadata": {},
   "outputs": [],
   "source": [
    "properties = properties[['property_id', 'id', 'formattedAddress', 'zipCode', 'county', 'subdivision', 'latitude', 'longitude', 'propertyType', 'ownerOccupied', 'yearBuilt', 'lastSaleDate', 'lastSalePrice', 'zoning','assessorID', 'legalDescription']]"
   ]
  },
  {
   "cell_type": "code",
   "execution_count": 35,
   "metadata": {},
   "outputs": [
    {
     "name": "stderr",
     "output_type": "stream",
     "text": [
      "/home/timboslice/UVA/spring24/RentRadar/rentradar/db/duckdb.py:47: UserWarning: pandas only supports SQLAlchemy connectable (engine/connection) or database string URI or sqlite3 DBAPI2 connection. Other DBAPI2 objects are not tested. Please consider using SQLAlchemy.\n",
      "  df.to_sql(table_name, self.conn, if_exists='replace', index=False)\n"
     ]
    }
   ],
   "source": [
    "db_manager.table_from_dataframe(properties, 'properties')"
   ]
  },
  {
   "cell_type": "markdown",
   "metadata": {},
   "source": [
    "### Long term rentals"
   ]
  },
  {
   "cell_type": "code",
   "execution_count": 37,
   "metadata": {},
   "outputs": [
    {
     "data": {
      "text/plain": [
       "Index(['id', 'formattedAddress', 'addressLine1', 'addressLine2', 'city',\n",
       "       'state', 'zipCode', 'county', 'latitude', 'longitude', 'propertyType',\n",
       "       'bedrooms', 'bathrooms', 'status', 'price', 'listedDate', 'removedDate',\n",
       "       'createdDate', 'lastSeenDate', 'daysOnMarket', 'squareFootage',\n",
       "       'yearBuilt', 'lotSize'],\n",
       "      dtype='object')"
      ]
     },
     "execution_count": 37,
     "metadata": {},
     "output_type": "execute_result"
    }
   ],
   "source": [
    "data.long_term_rentals.columns"
   ]
  },
  {
   "cell_type": "code",
   "execution_count": 38,
   "metadata": {},
   "outputs": [],
   "source": [
    "ltr = data.long_term_rentals\n",
    "ltr['property_id'] = ltr['id'].apply(string_to_uuid)"
   ]
  },
  {
   "cell_type": "code",
   "execution_count": 40,
   "metadata": {},
   "outputs": [],
   "source": [
    "ltr = ltr.drop(columns=['formattedAddress', 'addressLine1', 'addressLine2', 'city',\n",
    "       'state', 'zipCode', 'county', 'latitude', 'longitude', 'propertyType',\n",
    "       'bedrooms', 'bathrooms', 'squareFootage','yearBuilt', 'lotSize'], axis=1)"
   ]
  },
  {
   "cell_type": "code",
   "execution_count": 42,
   "metadata": {},
   "outputs": [],
   "source": [
    "ltr = ltr[['property_id', 'id', 'price', 'status', 'daysOnMarket', 'listedDate', 'createdDate', 'lastSeenDate', 'removedDate']]"
   ]
  },
  {
   "cell_type": "code",
   "execution_count": 43,
   "metadata": {},
   "outputs": [
    {
     "name": "stderr",
     "output_type": "stream",
     "text": [
      "/home/timboslice/UVA/spring24/RentRadar/rentradar/db/duckdb.py:47: UserWarning: pandas only supports SQLAlchemy connectable (engine/connection) or database string URI or sqlite3 DBAPI2 connection. Other DBAPI2 objects are not tested. Please consider using SQLAlchemy.\n",
      "  df.to_sql(table_name, self.conn, if_exists='replace', index=False)\n"
     ]
    }
   ],
   "source": [
    "db_manager.table_from_dataframe(ltr, 'long_term_rentals')"
   ]
  },
  {
   "cell_type": "markdown",
   "metadata": {},
   "source": [
    "### Sale listings"
   ]
  },
  {
   "cell_type": "code",
   "execution_count": 45,
   "metadata": {},
   "outputs": [
    {
     "data": {
      "text/plain": [
       "Index(['id', 'formattedAddress', 'addressLine1', 'addressLine2', 'city',\n",
       "       'state', 'zipCode', 'county', 'latitude', 'longitude', 'propertyType',\n",
       "       'bedrooms', 'bathrooms', 'squareFootage', 'lotSize', 'yearBuilt',\n",
       "       'status', 'price', 'listedDate', 'removedDate', 'createdDate',\n",
       "       'lastSeenDate', 'daysOnMarket'],\n",
       "      dtype='object')"
      ]
     },
     "execution_count": 45,
     "metadata": {},
     "output_type": "execute_result"
    }
   ],
   "source": [
    "data.sale_listings.columns"
   ]
  },
  {
   "cell_type": "code",
   "execution_count": 46,
   "metadata": {},
   "outputs": [
    {
     "name": "stderr",
     "output_type": "stream",
     "text": [
      "/home/timboslice/UVA/spring24/RentRadar/rentradar/db/duckdb.py:47: UserWarning: pandas only supports SQLAlchemy connectable (engine/connection) or database string URI or sqlite3 DBAPI2 connection. Other DBAPI2 objects are not tested. Please consider using SQLAlchemy.\n",
      "  df.to_sql(table_name, self.conn, if_exists='replace', index=False)\n"
     ]
    }
   ],
   "source": [
    "sl = data.sale_listings\n",
    "sl['property_id'] = sl['id'].apply(string_to_uuid)\n",
    "sl = sl[['property_id', 'id', 'status', 'price', 'listedDate', 'removedDate', 'createdDate', 'lastSeenDate', 'daysOnMarket']]\n",
    "db_manager.table_from_dataframe(sl, 'sale_listings')"
   ]
  },
  {
   "cell_type": "markdown",
   "metadata": {},
   "source": [
    "### Current market stats"
   ]
  },
  {
   "cell_type": "code",
   "execution_count": 48,
   "metadata": {},
   "outputs": [
    {
     "name": "stderr",
     "output_type": "stream",
     "text": [
      "/home/timboslice/UVA/spring24/RentRadar/rentradar/db/duckdb.py:47: UserWarning: pandas only supports SQLAlchemy connectable (engine/connection) or database string URI or sqlite3 DBAPI2 connection. Other DBAPI2 objects are not tested. Please consider using SQLAlchemy.\n",
      "  df.to_sql(table_name, self.conn, if_exists='replace', index=False)\n"
     ]
    }
   ],
   "source": [
    "cms = data.markets_current\n",
    "db_manager.table_from_dataframe(cms, 'current_market_stats')"
   ]
  },
  {
   "cell_type": "markdown",
   "metadata": {},
   "source": [
    "### Historic market stats"
   ]
  },
  {
   "cell_type": "code",
   "execution_count": 51,
   "metadata": {},
   "outputs": [
    {
     "name": "stderr",
     "output_type": "stream",
     "text": [
      "/home/timboslice/UVA/spring24/RentRadar/rentradar/db/duckdb.py:47: UserWarning: pandas only supports SQLAlchemy connectable (engine/connection) or database string URI or sqlite3 DBAPI2 connection. Other DBAPI2 objects are not tested. Please consider using SQLAlchemy.\n",
      "  df.to_sql(table_name, self.conn, if_exists='replace', index=False)\n"
     ]
    }
   ],
   "source": [
    "hms = data.markets_history\n",
    "db_manager.table_from_dataframe(hms, 'historic_market_stats')"
   ]
  },
  {
   "cell_type": "markdown",
   "metadata": {},
   "source": [
    "### Close DB connection"
   ]
  },
  {
   "cell_type": "code",
   "execution_count": 17,
   "metadata": {},
   "outputs": [
    {
     "name": "stderr",
     "output_type": "stream",
     "text": [
      "2024-02-25 00:04:54,933 - rentradar.db.duckdb - INFO - Database connection closed.\n"
     ]
    }
   ],
   "source": [
    "db_manager.close()"
   ]
  }
 ],
 "metadata": {
  "kernelspec": {
   "display_name": "rentradar-ZiKOXBpo-py3.10",
   "language": "python",
   "name": "python3"
  },
  "language_info": {
   "codemirror_mode": {
    "name": "ipython",
    "version": 3
   },
   "file_extension": ".py",
   "mimetype": "text/x-python",
   "name": "python",
   "nbconvert_exporter": "python",
   "pygments_lexer": "ipython3",
   "version": "3.10.12"
  }
 },
 "nbformat": 4,
 "nbformat_minor": 2
}
